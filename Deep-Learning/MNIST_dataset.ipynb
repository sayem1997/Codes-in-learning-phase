{
  "nbformat": 4,
  "nbformat_minor": 0,
  "metadata": {
    "colab": {
      "name": "MNIST_dataset.ipynb",
      "provenance": [],
      "authorship_tag": "ABX9TyMpPIqRhB1LVFkNtXt3mg+D",
      "include_colab_link": true
    },
    "kernelspec": {
      "name": "python3",
      "display_name": "Python 3"
    },
    "accelerator": "GPU"
  },
  "cells": [
    {
      "cell_type": "markdown",
      "metadata": {
        "id": "view-in-github",
        "colab_type": "text"
      },
      "source": [
        "<a href=\"https://colab.research.google.com/github/sayem1997/Codes-in-learning-phase/blob/master/Deep-Learning/MNIST_dataset.ipynb\" target=\"_parent\"><img src=\"https://colab.research.google.com/assets/colab-badge.svg\" alt=\"Open In Colab\"/></a>"
      ]
    },
    {
      "cell_type": "code",
      "metadata": {
        "id": "z-WbIzRlzwOf",
        "colab_type": "code",
        "colab": {
          "base_uri": "https://localhost:8080/",
          "height": 51
        },
        "outputId": "77779ae5-1110-4584-d8a1-b18b68e3fadc"
      },
      "source": [
        "import tensorflow as tf\n",
        "from tensorflow import keras\n",
        "from keras.datasets import mnist\n",
        "(train_images, train_lebels), (test_images, test_lebels) = mnist.load_data()"
      ],
      "execution_count": 1,
      "outputs": [
        {
          "output_type": "stream",
          "text": [
            "Downloading data from https://s3.amazonaws.com/img-datasets/mnist.npz\n",
            "11493376/11490434 [==============================] - 1s 0us/step\n"
          ],
          "name": "stdout"
        }
      ]
    },
    {
      "cell_type": "code",
      "metadata": {
        "id": "wq6zO33-174n",
        "colab_type": "code",
        "colab": {
          "base_uri": "https://localhost:8080/",
          "height": 34
        },
        "outputId": "c4ae2e15-f0f1-449b-d38b-7e7cd0d04de1"
      },
      "source": [
        "train_images.shape"
      ],
      "execution_count": 2,
      "outputs": [
        {
          "output_type": "execute_result",
          "data": {
            "text/plain": [
              "(60000, 28, 28)"
            ]
          },
          "metadata": {
            "tags": []
          },
          "execution_count": 2
        }
      ]
    },
    {
      "cell_type": "code",
      "metadata": {
        "id": "hx4TYESC2N-x",
        "colab_type": "code",
        "colab": {
          "base_uri": "https://localhost:8080/",
          "height": 34
        },
        "outputId": "f843eebe-13cc-449d-f0b9-7b763b28fca3"
      },
      "source": [
        "train_lebels"
      ],
      "execution_count": 3,
      "outputs": [
        {
          "output_type": "execute_result",
          "data": {
            "text/plain": [
              "array([5, 0, 4, ..., 5, 6, 8], dtype=uint8)"
            ]
          },
          "metadata": {
            "tags": []
          },
          "execution_count": 3
        }
      ]
    },
    {
      "cell_type": "code",
      "metadata": {
        "id": "nmrSZDc-2Rqx",
        "colab_type": "code",
        "colab": {
          "base_uri": "https://localhost:8080/",
          "height": 34
        },
        "outputId": "f6d0240f-48e0-467e-d24a-24784bcec7dd"
      },
      "source": [
        "test_images.shape"
      ],
      "execution_count": 4,
      "outputs": [
        {
          "output_type": "execute_result",
          "data": {
            "text/plain": [
              "(10000, 28, 28)"
            ]
          },
          "metadata": {
            "tags": []
          },
          "execution_count": 4
        }
      ]
    },
    {
      "cell_type": "code",
      "metadata": {
        "id": "l_g0rKbh2nGS",
        "colab_type": "code",
        "colab": {
          "base_uri": "https://localhost:8080/",
          "height": 34
        },
        "outputId": "dc26e135-ed6c-4eda-babd-759e46bbd7b7"
      },
      "source": [
        "test_lebels"
      ],
      "execution_count": 5,
      "outputs": [
        {
          "output_type": "execute_result",
          "data": {
            "text/plain": [
              "array([7, 2, 1, ..., 4, 5, 6], dtype=uint8)"
            ]
          },
          "metadata": {
            "tags": []
          },
          "execution_count": 5
        }
      ]
    },
    {
      "cell_type": "code",
      "metadata": {
        "id": "VHOozRUQ2puB",
        "colab_type": "code",
        "colab": {}
      },
      "source": [
        "from keras import models, layers\n",
        "\n",
        "network = models.Sequential()\n",
        "network.add(layers.Dense(512, activation='relu', input_shape=(28 * 28,)))\n",
        "network.add(layers.Dense(10, activation='softmax'))\n"
      ],
      "execution_count": 0,
      "outputs": []
    },
    {
      "cell_type": "code",
      "metadata": {
        "id": "ei472UGk3Y--",
        "colab_type": "code",
        "colab": {}
      },
      "source": [
        "network.compile(\n",
        "    optimizer='rmsprop',\n",
        "    loss = 'categorical_crossentropy',\n",
        "    metrics = ['accuracy']\n",
        ")"
      ],
      "execution_count": 0,
      "outputs": []
    },
    {
      "cell_type": "code",
      "metadata": {
        "id": "K5UpMq4t6eXz",
        "colab_type": "code",
        "colab": {}
      },
      "source": [
        "train_images = train_images.reshape((60000, 28 * 28))\n",
        "train_images = train_images.astype('float32') / 255\n",
        "\n",
        "test_images = test_images.reshape(10000, 28 * 28)\n",
        "test_images = test_images / 255.0\n"
      ],
      "execution_count": 0,
      "outputs": []
    },
    {
      "cell_type": "code",
      "metadata": {
        "id": "zuLToh5j7eGL",
        "colab_type": "code",
        "colab": {}
      },
      "source": [
        "from keras.utils import to_categorical\n",
        "\n",
        "train_lebels = to_categorical(train_lebels)\n",
        "test_lebels = to_categorical(test_lebels)"
      ],
      "execution_count": 0,
      "outputs": []
    },
    {
      "cell_type": "code",
      "metadata": {
        "id": "mjfQCJLg71oG",
        "colab_type": "code",
        "colab": {
          "base_uri": "https://localhost:8080/",
          "height": 544
        },
        "outputId": "0380bc0e-13f9-435b-d8ec-0e6cfdf869ab"
      },
      "source": [
        "network.fit(train_images, train_lebels, epochs=15, batch_size=128)"
      ],
      "execution_count": 19,
      "outputs": [
        {
          "output_type": "stream",
          "text": [
            "Epoch 1/15\n",
            "60000/60000 [==============================] - 2s 31us/step - loss: 0.0291 - accuracy: 0.9913\n",
            "Epoch 2/15\n",
            "60000/60000 [==============================] - 2s 31us/step - loss: 0.0222 - accuracy: 0.9927\n",
            "Epoch 3/15\n",
            "60000/60000 [==============================] - 2s 31us/step - loss: 0.0166 - accuracy: 0.9952\n",
            "Epoch 4/15\n",
            "60000/60000 [==============================] - 2s 31us/step - loss: 0.0131 - accuracy: 0.9962\n",
            "Epoch 5/15\n",
            "60000/60000 [==============================] - 2s 31us/step - loss: 0.0106 - accuracy: 0.9968\n",
            "Epoch 6/15\n",
            "60000/60000 [==============================] - 2s 32us/step - loss: 0.0082 - accuracy: 0.9976\n",
            "Epoch 7/15\n",
            "60000/60000 [==============================] - 2s 31us/step - loss: 0.0065 - accuracy: 0.9983\n",
            "Epoch 8/15\n",
            "60000/60000 [==============================] - 2s 32us/step - loss: 0.0051 - accuracy: 0.9986\n",
            "Epoch 9/15\n",
            "60000/60000 [==============================] - 2s 31us/step - loss: 0.0039 - accuracy: 0.9989\n",
            "Epoch 10/15\n",
            "60000/60000 [==============================] - 2s 31us/step - loss: 0.0030 - accuracy: 0.9992\n",
            "Epoch 11/15\n",
            "60000/60000 [==============================] - 2s 31us/step - loss: 0.0027 - accuracy: 0.9993\n",
            "Epoch 12/15\n",
            "60000/60000 [==============================] - 2s 31us/step - loss: 0.0020 - accuracy: 0.9994\n",
            "Epoch 13/15\n",
            "60000/60000 [==============================] - 2s 31us/step - loss: 0.0014 - accuracy: 0.9997\n",
            "Epoch 14/15\n",
            "60000/60000 [==============================] - 2s 32us/step - loss: 0.0014 - accuracy: 0.9997\n",
            "Epoch 15/15\n",
            "60000/60000 [==============================] - 2s 31us/step - loss: 8.0956e-04 - accuracy: 0.9998\n"
          ],
          "name": "stdout"
        },
        {
          "output_type": "execute_result",
          "data": {
            "text/plain": [
              "<keras.callbacks.callbacks.History at 0x7fb1b0035c50>"
            ]
          },
          "metadata": {
            "tags": []
          },
          "execution_count": 19
        }
      ]
    },
    {
      "cell_type": "code",
      "metadata": {
        "id": "gCvtjzsR8CCl",
        "colab_type": "code",
        "colab": {
          "base_uri": "https://localhost:8080/",
          "height": 68
        },
        "outputId": "391968eb-8567-4efd-db5d-c3c682276a07"
      },
      "source": [
        "test_loss, test_accuracy = network.evaluate(test_images, test_lebels)\n",
        "print('Test Loss: ', test_loss)\n",
        "print('Test Accuracy: ', test_accuracy)"
      ],
      "execution_count": 20,
      "outputs": [
        {
          "output_type": "stream",
          "text": [
            "10000/10000 [==============================] - 1s 73us/step\n",
            "Test Loss:  0.09858762018744284\n",
            "Test Accuracy:  0.9822999835014343\n"
          ],
          "name": "stdout"
        }
      ]
    },
    {
      "cell_type": "code",
      "metadata": {
        "id": "33bKOqIz8wgy",
        "colab_type": "code",
        "colab": {}
      },
      "source": [
        ""
      ],
      "execution_count": 0,
      "outputs": []
    }
  ]
}